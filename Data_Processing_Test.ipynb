{
 "cells": [
  {
   "metadata": {
    "collapsed": true,
    "ExecuteTime": {
     "end_time": "2025-05-05T17:38:25.538741Z",
     "start_time": "2025-05-05T17:38:25.520447Z"
    }
   },
   "cell_type": "code",
   "source": [
    "# Importing required Packages\n",
    "import numpy as np\n",
    "import matplotlib.pyplot as plt\n",
    "from scipy.fft import fft\n",
    "from scipy.integrate import cumtrapz"
   ],
   "id": "initial_id",
   "outputs": [
    {
     "ename": "ImportError",
     "evalue": "cannot import name 'cumtrapz' from 'scipy.integrate' (C:\\Users\\trent\\OneDrive\\Desktop\\EE361\\.venv\\Lib\\site-packages\\scipy\\integrate\\__init__.py)",
     "output_type": "error",
     "traceback": [
      "\u001B[31m---------------------------------------------------------------------------\u001B[39m",
      "\u001B[31mImportError\u001B[39m                               Traceback (most recent call last)",
      "\u001B[36mCell\u001B[39m\u001B[36m \u001B[39m\u001B[32mIn[47]\u001B[39m\u001B[32m, line 5\u001B[39m\n\u001B[32m      3\u001B[39m \u001B[38;5;28;01mimport\u001B[39;00m\u001B[38;5;250m \u001B[39m\u001B[34;01mmatplotlib\u001B[39;00m\u001B[34;01m.\u001B[39;00m\u001B[34;01mpyplot\u001B[39;00m\u001B[38;5;250m \u001B[39m\u001B[38;5;28;01mas\u001B[39;00m\u001B[38;5;250m \u001B[39m\u001B[34;01mplt\u001B[39;00m\n\u001B[32m      4\u001B[39m \u001B[38;5;28;01mfrom\u001B[39;00m\u001B[38;5;250m \u001B[39m\u001B[34;01mscipy\u001B[39;00m\u001B[34;01m.\u001B[39;00m\u001B[34;01mfft\u001B[39;00m\u001B[38;5;250m \u001B[39m\u001B[38;5;28;01mimport\u001B[39;00m fft\n\u001B[32m----> \u001B[39m\u001B[32m5\u001B[39m \u001B[38;5;28;01mfrom\u001B[39;00m\u001B[38;5;250m \u001B[39m\u001B[34;01mscipy\u001B[39;00m\u001B[34;01m.\u001B[39;00m\u001B[34;01mintegrate\u001B[39;00m\u001B[38;5;250m \u001B[39m\u001B[38;5;28;01mimport\u001B[39;00m cumtrapz\n",
      "\u001B[31mImportError\u001B[39m: cannot import name 'cumtrapz' from 'scipy.integrate' (C:\\Users\\trent\\OneDrive\\Desktop\\EE361\\.venv\\Lib\\site-packages\\scipy\\integrate\\__init__.py)"
     ]
    }
   ],
   "execution_count": 47
  },
  {
   "metadata": {
    "ExecuteTime": {
     "end_time": "2025-05-05T17:38:26.238505Z",
     "start_time": "2025-05-05T17:38:26.233904Z"
    }
   },
   "cell_type": "code",
   "source": [
    "# Changing directory to Waveform location\n",
    "%cd C:\\Users\\trent\\Desktop\\ML Paper -02 Data\\Vivek_2022\\CF_25_CCS_0-6"
   ],
   "id": "86e99106b1c4ce6d",
   "outputs": [
    {
     "name": "stdout",
     "output_type": "stream",
     "text": [
      "[WinError 3] The system cannot find the path specified: 'C:\\\\Users\\\\trent\\\\Desktop\\\\ML Paper -02 Data\\\\Vivek_2022\\\\CF_25_CCS_0-6'\n",
      "C:\\Users\\trent\\PycharmProjects\\EE491\n"
     ]
    }
   ],
   "execution_count": 48
  },
  {
   "metadata": {
    "ExecuteTime": {
     "end_time": "2025-04-19T18:48:07.454998Z",
     "start_time": "2025-04-19T18:48:07.445453Z"
    }
   },
   "cell_type": "code",
   "source": [
    "# Reading calibration data to set boundaries on graphical interface\n",
    "calibration = np.loadtxt(\"Filtered Waveform_Pressure_SampleCalibration.txt\")\n",
    "# Splitting columns into time and amplitude\n",
    "time_cal = calibration[:,0]\n",
    "amplitude_cal = calibration[:,1]"
   ],
   "id": "a5af1cbb8e377596",
   "outputs": [],
   "execution_count": 6
  },
  {
   "metadata": {
    "ExecuteTime": {
     "end_time": "2025-04-19T18:59:44.690019Z",
     "start_time": "2025-04-19T18:59:44.684407Z"
    }
   },
   "cell_type": "code",
   "source": [
    "# Setting window index's\n",
    "\n",
    "cal_w1 = 1061\n",
    "cal_w2 = 1163\n",
    "samp_w1 = 1300\n",
    "samp_w2 = 2000\n",
    "proc_W1 = 111\n",
    "proc_W2 = 331"
   ],
   "id": "19de94170cdeb95f",
   "outputs": [],
   "execution_count": 7
  },
  {
   "metadata": {
    "ExecuteTime": {
     "end_time": "2025-04-19T19:02:13.218751Z",
     "start_time": "2025-04-19T19:02:13.165165Z"
    }
   },
   "cell_type": "code",
   "source": [
    "# Filtered Waveform Processing\n",
    "\n",
    "# Creating finalized metric of each filtered waveform\n",
    "wf_metric = np.zeros(35)\n",
    "plt.figure(figsize=(12,10))\n",
    "# creating storage for normalized fast fourier transform (FFT) outputs\n",
    "norm_FFT = np.zeros((2251, 35))"
   ],
   "id": "d681dc37cca90e16",
   "outputs": [
    {
     "data": {
      "text/plain": [
       "<Figure size 1200x1000 with 0 Axes>"
      ]
     },
     "metadata": {},
     "output_type": "display_data"
    }
   ],
   "execution_count": 8
  },
  {
   "metadata": {
    "ExecuteTime": {
     "end_time": "2025-04-19T19:04:33.723072Z",
     "start_time": "2025-04-19T19:04:33.472838Z"
    }
   },
   "cell_type": "code",
   "source": [
    "# Loading all filtered samples into previously allocated metrics\n",
    "for i in range(35):\n",
    "    # changing waveform number in according to loop\n",
    "    wf_1 = np.loadtxt(f'Filtered Waveform_Pressure_Sample{i+1}.txt')\n",
    "    # cropping sample and calibration waveforms\n",
    "    y_cal_filt = calibration[:,i]\n",
    "    y_samp_filt = wf_1[:,1]\n",
    "    y_filt_cal = y_cal_filt[cal_w1:cal_w2]\n",
    "    y_filt_samp = y_samp_filt[samp_w1:samp_w2]\n",
    "    # Applying FFT to analyze freq domain by taking absolute value for amplitude spectrum\n",
    "    ampspec_cal = np.abs(fft(y_filt_cal, 11000))\n",
    "    ampspec_samp = np.abs(fft(y_filt_samp, 11000))\n",
    "    # zooming to fit on amplitude outputs\n",
    "    len_cal = len(ampspec_cal)\n",
    "    len_samp = len(ampspec_samp)\n",
    "    # adjusting sample and calibration frequency axis's\n",
    "    freq_axis_cal = 1. / (wf_1[1, 0] - wf_1[0, 0]) * np.arange(len_cal / 2 + 1) / len_cal\n",
    "    freq_axis_samp = 1. / (wf_1[1, 0] - wf_1[0, 0]) * np.arange(len_samp / 2 + 1) / len_samp\n",
    "    # attenuation coefficient, tells how weakened signal is when passing though our capsules\n",
    "    att_coef = (1 / (1j * 5.55e-3)) * np.log(ampspec_samp / ampspec_cal)\n",
    "    # imaginary part to keep relevance in our matrix\n",
    "    imag_att = np.imag(att_coef)\n",
    "    # truncation of arrays\n",
    "    ampspec_cal = ampspec_cal[:int(len_cal/2+1)]\n",
    "    imag_att = imag_att[:int(len_samp/2+1)]\n",
    "    # corrections to remove trends downward or upward upon compresion. makes signal flat for modeling\n",
    "    y_N = ((imag_att[331] - imag_att[111]) / (freq_axis_samp[331] - freq_axis_samp[111])) * freq_axis_samp + imag_att[111] - (\n",
    "            (imag_att[331] - imag_att[111]) / (freq_axis_samp[331] - freq_axis_samp[111])) * freq_axis_samp[111]\n",
    "    y_N_T = y_N.T\n",
    "    imag_att_01 = imag_att - y_N_T\n",
    "    # signal processing slicing. subtracts mean to center signal on y = 0\n",
    "    y_filt_samp_temp = imag_att_01[proc_W1:proc_W2]\n",
    "    y_filt_samp_01 = y_filt_samp_temp - np.mean(y_filt_samp_temp)\n",
    "    # Using FFT again to extract features of filtered section and zoom on area\n",
    "    ampspec_samp_final = np.abs(fft(y_filt_samp_01), 4500)\n",
    "    len_ampspec_samp = len(ampspec_samp_final)\n",
    "    # frequency axis calibration for new filtered sample wave form\n",
    "    freq_a_1 = 1. / (freq_axis_samp[1] - freq_axis_samp[0]) * np.arange(len_ampspec_samp / 2 + 1) / len_ampspec_samp\n",
    "    # normalizing wave form from 0 to 1 range for easier modeling\n",
    "    ampspec_samp_final = (ampspec_samp_final[:int(len_ampspec_samp / 2 + 1)] - np.min(ampspec_samp_final[:int(len_ampspec_samp / 2 + 1)])) / (\n",
    "        np.max(ampspec_samp_final[:int(len_ampspec_samp / 2 + 1)]) - np.min(ampspec_samp_final[:int(len_ampspec_samp / 2 + 1)]))\n",
    "    norm_FFT[:,i] = ampspec_samp_final\n",
    "    # plotting normalized and processed FFT of each waveform\n",
    "    plt.plot(freq_a_1 * 10 ** 6, ampspec_samp_final, 'k--', linewidth=1)\n",
    "    # plot modifications and labeling\n",
    "    plt.xlim([0, 20])\n",
    "    plt.ylim([-.1, 1.1])\n",
    "    plt.xlabel('f(MHz)', fontsize=16)\n",
    "    plt.ylabel('Amplitude', fontsize=16)\n",
    "    plt.grid(True)\n",
    "    plt.box(True)\n",
    "    # extraction of area under curve features.\n",
    "    Int = np.concatenate(([0], cumtrapz(freq_axis_samp * 10 ** -6, imag_att_01 / (3 - 1))))\n",
    "    Intv = lambda a, b: np.max(Int[freq_axis_samp * 10 ** -6 <= b]) - np.min(Int[freq_axis_samp * 10 ** -6 >= a])\n",
    "    wf_metric[i] = Intv(1, 3)\n",
    "\n",
    "# final plotting / display of plot\n",
    "plt.show()\n",
    "norm_FFT[2250,:] = 1\n"
   ],
   "id": "43a2e363ed8c3766",
   "outputs": [],
   "execution_count": 9
  }
 ],
 "metadata": {
  "kernelspec": {
   "display_name": "Python 3",
   "language": "python",
   "name": "python3"
  },
  "language_info": {
   "codemirror_mode": {
    "name": "ipython",
    "version": 2
   },
   "file_extension": ".py",
   "mimetype": "text/x-python",
   "name": "python",
   "nbconvert_exporter": "python",
   "pygments_lexer": "ipython2",
   "version": "2.7.6"
  }
 },
 "nbformat": 4,
 "nbformat_minor": 5
}
