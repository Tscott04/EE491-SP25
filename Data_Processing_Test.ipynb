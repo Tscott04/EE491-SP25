{
 "cells": [
  {
   "cell_type": "code",
   "id": "initial_id",
   "metadata": {
    "collapsed": true,
    "ExecuteTime": {
     "end_time": "2025-04-19T18:20:10.022573Z",
     "start_time": "2025-04-19T18:20:10.019532Z"
    }
   },
   "source": [
    "# Importing required Packages\n",
    "import numpy as np\n",
    "import matplotlib.pyplot as plt\n",
    "from scipy.fft import *\n",
    "from scipy.integrate import *"
   ],
   "outputs": [],
   "execution_count": 2
  },
  {
   "metadata": {
    "ExecuteTime": {
     "end_time": "2025-04-19T18:37:35.800570Z",
     "start_time": "2025-04-19T18:37:35.785266Z"
    }
   },
   "cell_type": "code",
   "source": [
    "# Changing directory to Waveform location\n",
    "%cd C:\\Users\\trent\\Desktop\\ML Paper -02 Data\\Vivek_2022\\CF_25_CCS_0-6"
   ],
   "id": "86e99106b1c4ce6d",
   "outputs": [
    {
     "name": "stdout",
     "output_type": "stream",
     "text": [
      "C:\\Users\\trent\\Desktop\\ML Paper -02 Data\\Vivek_2022\\CF_25_CCS_0-6\n"
     ]
    }
   ],
   "execution_count": 3
  },
  {
   "metadata": {
    "ExecuteTime": {
     "end_time": "2025-04-19T18:48:07.454998Z",
     "start_time": "2025-04-19T18:48:07.445453Z"
    }
   },
   "cell_type": "code",
   "source": [
    "# Reading calibration data to set boundaries on graphical interface\n",
    "calibration = np.loadtxt(\"Filtered Waveform_Pressure_SampleCalibration.txt\")\n",
    "# Splitting columns into time and amplitude\n",
    "time_cal = calibration[:,0]\n",
    "amplitude_cal = calibration[:,1]"
   ],
   "id": "a5af1cbb8e377596",
   "outputs": [],
   "execution_count": 6
  },
  {
   "metadata": {
    "ExecuteTime": {
     "end_time": "2025-04-19T18:59:44.690019Z",
     "start_time": "2025-04-19T18:59:44.684407Z"
    }
   },
   "cell_type": "code",
   "source": [
    "# Setting window index's\n",
    "\n",
    "cal_w1 = 1061\n",
    "cal_w2 = 1163\n",
    "samp_w1 = 1300\n",
    "samp_w2 = 2000\n",
    "proc_W1 = 111\n",
    "proc_W2 = 331"
   ],
   "id": "19de94170cdeb95f",
   "outputs": [],
   "execution_count": 7
  },
  {
   "metadata": {
    "ExecuteTime": {
     "end_time": "2025-04-19T19:02:13.218751Z",
     "start_time": "2025-04-19T19:02:13.165165Z"
    }
   },
   "cell_type": "code",
   "source": [
    "# Filtered Waveform Processing\n",
    "\n",
    "# Creating finalized metric of each filtered waveform\n",
    "wf_metric = np.zeros(35)\n",
    "plt.figure(figsize=(12,10))\n",
    "# creating storage for normalized fast fourier transform (FFT) outputs\n",
    "norm_FFT = np.zeros((2251, 35))"
   ],
   "id": "d681dc37cca90e16",
   "outputs": [
    {
     "data": {
      "text/plain": [
       "<Figure size 1200x1000 with 0 Axes>"
      ]
     },
     "metadata": {},
     "output_type": "display_data"
    }
   ],
   "execution_count": 8
  },
  {
   "metadata": {
    "ExecuteTime": {
     "end_time": "2025-04-19T19:04:33.723072Z",
     "start_time": "2025-04-19T19:04:33.472838Z"
    }
   },
   "cell_type": "code",
   "source": [
    "# Loading all filtered samples into previously allocated metrics\n",
    "for i in range(35):\n",
    "    # changing waveform number in according to loop\n",
    "    wf_1 = np.loadtxt(f'Filtered Waveform_Pressure_Sample{i+1}.txt')\n",
    "    # cropping sample and calibration waveforms\n",
    "    y_cal_filt = calibration[:,i]\n",
    "    y_samp_filt = wf_1[:,1]\n",
    "    y_filt_s1 = y_cal_filt[cal_w1:cal_w2]\n",
    "    y_filt_s2 = y_samp_filt[samp_w1:samp_w2]\n",
    "    # Applying FFT to analyze freq domain by taking absolute value for amplitude spectrum\n",
    "    ampspec_1 = np.abs(fft(y_filt_s1), 11000)\n",
    "    ampspec_2 = np.abs(fft(y_filt_s2), 11000)\n"
   ],
   "id": "43a2e363ed8c3766",
   "outputs": [],
   "execution_count": 9
  },
  {
   "metadata": {},
   "cell_type": "code",
   "outputs": [],
   "execution_count": null,
   "source": "",
   "id": "53e8d5ca66ecc0d5"
  }
 ],
 "metadata": {
  "kernelspec": {
   "display_name": "Python 3",
   "language": "python",
   "name": "python3"
  },
  "language_info": {
   "codemirror_mode": {
    "name": "ipython",
    "version": 2
   },
   "file_extension": ".py",
   "mimetype": "text/x-python",
   "name": "python",
   "nbconvert_exporter": "python",
   "pygments_lexer": "ipython2",
   "version": "2.7.6"
  }
 },
 "nbformat": 4,
 "nbformat_minor": 5
}
